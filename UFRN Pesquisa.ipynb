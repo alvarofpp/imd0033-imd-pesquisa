{
 "cells": [
  {
   "cell_type": "markdown",
   "metadata": {},
   "source": [
    "# Trabalho da segunda unidade de Probabilidade\n",
    "Esse trabalho possui como objetivo análisar os dados referentes a pesquisa no Instituto Metrópole Digital (IMD).\n",
    "\n",
    "**Componentes**:\n",
    "- <a href=\"https://github.com/alvarofpp\">Álvaro Ferreira Pires de Paiva</a>\n",
    "  - Matrícula: 2016039162\n",
    "  - E-mail: alvarofepipa@gmail.com\n",
    "- <a href=\"https://github.com/davir8\">Davi Rodrigues de Medeiros</a>\n",
    "  - Matrícula: 20160143888\n",
    "  - E-mail:davirodrigues8@gmail.com\n",
    "\n",
    "## Dados\n",
    "Os dados utilizados forma retirados do site de <a href=\"http://dados.ufrn.br/\">dados abertos da UFRN</a>. Foram utilizados os seguintes dados:\n",
    "- <a href=\"http://dados.ufrn.br/dataset/bolsistas-de-iniciacao-cientifica\">Bolsistas de Iniciação Científica</a>\n",
    "- <a href=\"http://dados.ufrn.br/dataset/discentes\">Discentes</a>\n",
    "- <a href=\"http://dados.ufrn.br/dataset/docentes\">Docentes</a>\n",
    "\n",
    "\n",
    "###### Sumário\n",
    "- [Preparando o ambiente](#ambiente)\n",
    "- [Tratamento dos dados](#tratamento)\n",
    "  - [Filtragem](#filtragem)\n",
    "  - [Vinculação](#vinculacao)\n",
    "\n",
    "## <a id=\"ambiente\">Preparando o ambiente</a>\n",
    "Nessa seção, iremos declarar as variáveis globais que iremos utilizar durante esse notebook, importar as libs necessárias e preparar os arquivos que temos para podermos utilizá-los nas seções seguintes."
   ]
  },
  {
   "cell_type": "code",
   "execution_count": 9,
   "metadata": {},
   "outputs": [],
   "source": [
    "# Imports\n",
    "import os\n",
    "import pandas as pd"
   ]
  },
  {
   "cell_type": "code",
   "execution_count": 7,
   "metadata": {},
   "outputs": [],
   "source": [
    "# Caminhos dos arquivos\n",
    "path_files = \"files/\"\n",
    "path_discentes = path_files + \"discentes/\""
   ]
  },
  {
   "cell_type": "code",
   "execution_count": 5,
   "metadata": {},
   "outputs": [
    {
     "name": "stdout",
     "output_type": "stream",
     "text": [
      "discentes-2014\n",
      "discentes-2018\n",
      "discentes-2016\n",
      "discentes-2010\n",
      "discentes-2017\n",
      "discentes-2013\n",
      "discentes-2009\n",
      "discentes-2015\n",
      "discentes-2012\n",
      "discentes-2011\n"
     ]
    }
   ],
   "source": [
    "# Iremos pegar todos os discentes e filtrar-los em apenas os discentes do IMD\n",
    "for root, dirs, files in os.walk(path_discentes):  \n",
    "    for filename in files:\n",
    "        print(filename)"
   ]
  },
  {
   "cell_type": "code",
   "execution_count": 10,
   "metadata": {},
   "outputs": [],
   "source": [
    "df_ingressantes2018 = pd.read_csv((path_discentes + \"discentes-2018\"), sep=';')"
   ]
  },
  {
   "cell_type": "code",
   "execution_count": 14,
   "metadata": {
    "scrolled": false
   },
   "outputs": [],
   "source": [
    "df_ingressantes_imd = df_ingressantes2018[df_ingressantes2018.nome_curso == \"TECNOLOGIA DA INFORMAÇÃO\"]"
   ]
  },
  {
   "cell_type": "code",
   "execution_count": 15,
   "metadata": {},
   "outputs": [
    {
     "data": {
      "text/plain": [
       "313"
      ]
     },
     "execution_count": 15,
     "metadata": {},
     "output_type": "execute_result"
    }
   ],
   "source": [
    "len(df_ingressantes_imd)"
   ]
  },
  {
   "cell_type": "code",
   "execution_count": null,
   "metadata": {},
   "outputs": [],
   "source": []
  }
 ],
 "metadata": {
  "kernelspec": {
   "display_name": "Python 3",
   "language": "python",
   "name": "python3"
  },
  "language_info": {
   "codemirror_mode": {
    "name": "ipython",
    "version": 3
   },
   "file_extension": ".py",
   "mimetype": "text/x-python",
   "name": "python",
   "nbconvert_exporter": "python",
   "pygments_lexer": "ipython3",
   "version": "3.6.5"
  }
 },
 "nbformat": 4,
 "nbformat_minor": 2
}
