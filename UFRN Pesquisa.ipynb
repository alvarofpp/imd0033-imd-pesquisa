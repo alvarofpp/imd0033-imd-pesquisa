{
 "cells": [
  {
   "cell_type": "markdown",
   "metadata": {},
   "source": [
    "Esse trabalho possui como objetivo análisar os dados referentes a pesquisa no Instituto MD.\n",
    "\n",
    "## Dados\n",
    "Os dados utilizados forma retirados do site de <a href=\"http://dados.ufrn.br/\">dados abertos da UFRN</a>. Foram utilizados os seguintes dados:\n",
    "- <a href=\"http://dados.ufrn.br/dataset/bolsistas-de-iniciacao-cientifica\">Bolsistas de Iniciação Científica</a>\n",
    "- <a href=\"http://dados.ufrn.br/dataset/discentes\">Discentes</a>\n",
    "- <a href=\"http://dados.ufrn.br/dataset/docentes\">Docentes</a>\n",
    "- <a href=\"http://dados.ufrn.br/dataset/discentes\">Discentes</a>\n",
    "- <a href=\"http://dados.ufrn.br/dataset/discentes\">Discentes</a>"
   ]
  },
  {
   "cell_type": "code",
   "execution_count": null,
   "metadata": {},
   "outputs": [],
   "source": []
  }
 ],
 "metadata": {
  "kernelspec": {
   "display_name": "Python 3",
   "language": "python",
   "name": "python3"
  },
  "language_info": {
   "codemirror_mode": {
    "name": "ipython",
    "version": 3
   },
   "file_extension": ".py",
   "mimetype": "text/x-python",
   "name": "python",
   "nbconvert_exporter": "python",
   "pygments_lexer": "ipython3",
   "version": "3.6.5"
  }
 },
 "nbformat": 4,
 "nbformat_minor": 2
}
