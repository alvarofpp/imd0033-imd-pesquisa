{
 "cells": [
  {
   "cell_type": "markdown",
   "metadata": {},
   "source": [
    "# Trabalho da segunda unidade de Probabilidade\n",
    "Esse trabalho possui como objetivo análisar os dados referentes a pesquisa no Instituto Metrópole Digital (IMD).\n",
    "\n",
    "**Componentes**:\n",
    "- <a href=\"https://github.com/alvarofpp\">Álvaro Ferreira Pires de Paiva</a>\n",
    "  - Matrícula: 2016039162\n",
    "  - E-mail: alvarofepipa@gmail.com\n",
    "- <a href=\"https://github.com/davir8\">Davi Rodrigues de Medeiros</a>\n",
    "  - Matrícula: 20160143888\n",
    "  - E-mail:davirodrigues8@gmail.com\n",
    "\n",
    "## Dados\n",
    "Os dados utilizados forma retirados do site de <a href=\"http://dados.ufrn.br/\">dados abertos da UFRN</a>. Foram utilizados os seguintes dados:\n",
    "- <a href=\"http://dados.ufrn.br/dataset/bolsistas-de-iniciacao-cientifica\">Bolsistas de Iniciação Científica</a>\n",
    "- <a href=\"http://dados.ufrn.br/dataset/discentes\">Discentes</a>\n",
    "- <a href=\"http://dados.ufrn.br/dataset/docentes\">Docentes</a>\n",
    "\n",
    "\n",
    "###### Sumário\n",
    "- [Preparando o ambiente](#ambiente)\n",
    "- [Tratamento dos dados](#tratamento)\n",
    "  - [Filtragem](#filtragem)\n",
    "  - [Vinculação](#vinculacao)\n",
    "\n",
    "## <a id=\"ambiente\">Preparando o ambiente</a>\n",
    "Nessa seção, iremos declarar as variáveis globais que iremos utilizar durante esse notebook, importar as libs necessárias e preparar os arquivos que temos para podermos utilizá-los nas seções seguintes."
   ]
  },
  {
   "cell_type": "code",
   "execution_count": 2,
   "metadata": {},
   "outputs": [],
   "source": [
    "# Imports\n",
    "import os\n",
    "import pandas as pd"
   ]
  },
  {
   "cell_type": "code",
   "execution_count": 3,
   "metadata": {},
   "outputs": [],
   "source": [
    "# Caminhos dos arquivos\n",
    "path_files = \"files/\"\n",
    "path_discentes = path_files + \"discentes/\""
   ]
  },
  {
   "cell_type": "code",
   "execution_count": 52,
   "metadata": {},
   "outputs": [
    {
     "name": "stdout",
     "output_type": "stream",
     "text": [
      "files/discentes/discentes-2014\n",
      "files/discentes/discentes-2018\n",
      "files/discentes/discentes-2016\n",
      "files/discentes/discentes-2010\n",
      "files/discentes/discentes-2017\n",
      "files/discentes/discentes-2013\n",
      "files/discentes/discentes-2009\n",
      "files/discentes/discentes-2015\n",
      "files/discentes/discentes-2012\n",
      "files/discentes/discentes-2011\n"
     ]
    }
   ],
   "source": [
    "# Iremos pegar todos os discentes e filtrar-los em apenas os discentes do IMD\n",
    "df_ingressantes_imd = pd.DataFrame()\n",
    "\n",
    "for root, dirs, files in os.walk(path_discentes):\n",
    "    for filename in files:\n",
    "        print(root + filename)\n",
    "        df_ingressantes = pd.read_csv((root + filename), sep=';')\n",
    "        df_ingressantes_filter = df_ingressantes[df_ingressantes.nome_curso == \"TECNOLOGIA DA INFORMAÇÃO\"]\n",
    "        df_ingressantes_imd = pd.concat([df_ingressantes_imd, df_ingressantes_filter])"
   ]
  },
  {
   "cell_type": "code",
   "execution_count": 53,
   "metadata": {},
   "outputs": [],
   "source": [
    "# Remove as colunas que não nos servem para nada\n",
    "df_ingressantes_imd = df_ingressantes_imd.drop(columns=['sigla_nivel_ensino', 'nivel_ensino',\n",
    "                                  'id_curso', 'nome_curso',\n",
    "                                  'id_unidade', 'nome_unidade',\n",
    "                                 'id_unidade_gestora', 'nome_unidade_gestora'])\n",
    "\n",
    "# Converte colunas que são float, mas deveriam ser double\n",
    "df_ingressantes_imd.periodo_ingresso = df_ingressantes_imd.periodo_ingresso.astype('int64')"
   ]
  },
  {
   "cell_type": "code",
   "execution_count": 54,
   "metadata": {},
   "outputs": [
    {
     "data": {
      "text/html": [
       "<div>\n",
       "<style scoped>\n",
       "    .dataframe tbody tr th:only-of-type {\n",
       "        vertical-align: middle;\n",
       "    }\n",
       "\n",
       "    .dataframe tbody tr th {\n",
       "        vertical-align: top;\n",
       "    }\n",
       "\n",
       "    .dataframe thead th {\n",
       "        text-align: right;\n",
       "    }\n",
       "</style>\n",
       "<table border=\"1\" class=\"dataframe\">\n",
       "  <thead>\n",
       "    <tr style=\"text-align: right;\">\n",
       "      <th></th>\n",
       "      <th>matricula</th>\n",
       "      <th>nome_discente</th>\n",
       "      <th>ano_ingresso</th>\n",
       "      <th>periodo_ingresso</th>\n",
       "      <th>forma_ingresso</th>\n",
       "      <th>tipo_discente</th>\n",
       "      <th>status</th>\n",
       "      <th>modalidade_educacao</th>\n",
       "    </tr>\n",
       "  </thead>\n",
       "  <tbody>\n",
       "    <tr>\n",
       "      <th>56</th>\n",
       "      <td>2.014065e+09</td>\n",
       "      <td>ADAUTO VIEIRA DE ARAÚJO GUEDES</td>\n",
       "      <td>2014</td>\n",
       "      <td>1</td>\n",
       "      <td>SiSU</td>\n",
       "      <td>REGULAR</td>\n",
       "      <td>CANCELADO</td>\n",
       "      <td>PRESENCIAL</td>\n",
       "    </tr>\n",
       "    <tr>\n",
       "      <th>135</th>\n",
       "      <td>2.014053e+09</td>\n",
       "      <td>ADRIANA ARAUJO DE ALBUQUERQUE ANDRADE</td>\n",
       "      <td>2014</td>\n",
       "      <td>1</td>\n",
       "      <td>SiSU</td>\n",
       "      <td>REGULAR</td>\n",
       "      <td>CANCELADO</td>\n",
       "      <td>PRESENCIAL</td>\n",
       "    </tr>\n",
       "    <tr>\n",
       "      <th>364</th>\n",
       "      <td>2.014065e+09</td>\n",
       "      <td>ALAN VITOR COSTA DE OLIVEIRA</td>\n",
       "      <td>2014</td>\n",
       "      <td>1</td>\n",
       "      <td>SiSU</td>\n",
       "      <td>REGULAR</td>\n",
       "      <td>ATIVO</td>\n",
       "      <td>PRESENCIAL</td>\n",
       "    </tr>\n",
       "    <tr>\n",
       "      <th>582</th>\n",
       "      <td>2.014024e+09</td>\n",
       "      <td>ALEXANDRE NELSON ALVES DE CARVALHO JUNIOR</td>\n",
       "      <td>2014</td>\n",
       "      <td>1</td>\n",
       "      <td>SiSU</td>\n",
       "      <td>REGULAR</td>\n",
       "      <td>ATIVO</td>\n",
       "      <td>PRESENCIAL</td>\n",
       "    </tr>\n",
       "    <tr>\n",
       "      <th>594</th>\n",
       "      <td>2.014057e+09</td>\n",
       "      <td>ALEXANDRE VITOR CUNHA DE MEDEIROS</td>\n",
       "      <td>2014</td>\n",
       "      <td>1</td>\n",
       "      <td>SiSU</td>\n",
       "      <td>REGULAR</td>\n",
       "      <td>CANCELADO</td>\n",
       "      <td>PRESENCIAL</td>\n",
       "    </tr>\n",
       "  </tbody>\n",
       "</table>\n",
       "</div>"
      ],
      "text/plain": [
       "        matricula                              nome_discente  ano_ingresso  \\\n",
       "56   2.014065e+09             ADAUTO VIEIRA DE ARAÚJO GUEDES          2014   \n",
       "135  2.014053e+09      ADRIANA ARAUJO DE ALBUQUERQUE ANDRADE          2014   \n",
       "364  2.014065e+09               ALAN VITOR COSTA DE OLIVEIRA          2014   \n",
       "582  2.014024e+09  ALEXANDRE NELSON ALVES DE CARVALHO JUNIOR          2014   \n",
       "594  2.014057e+09          ALEXANDRE VITOR CUNHA DE MEDEIROS          2014   \n",
       "\n",
       "     periodo_ingresso forma_ingresso tipo_discente     status  \\\n",
       "56                  1           SiSU       REGULAR  CANCELADO   \n",
       "135                 1           SiSU       REGULAR  CANCELADO   \n",
       "364                 1           SiSU       REGULAR      ATIVO   \n",
       "582                 1           SiSU       REGULAR      ATIVO   \n",
       "594                 1           SiSU       REGULAR  CANCELADO   \n",
       "\n",
       "    modalidade_educacao  \n",
       "56           PRESENCIAL  \n",
       "135          PRESENCIAL  \n",
       "364          PRESENCIAL  \n",
       "582          PRESENCIAL  \n",
       "594          PRESENCIAL  "
      ]
     },
     "execution_count": 54,
     "metadata": {},
     "output_type": "execute_result"
    }
   ],
   "source": [
    "df_ingressantes_imd.head()"
   ]
  },
  {
   "cell_type": "code",
   "execution_count": 57,
   "metadata": {},
   "outputs": [],
   "source": [
    "# Salvamos o arquivo\n",
    "df_ingressantes_imd.to_csv('data/discentes_imd.csv')"
   ]
  },
  {
   "cell_type": "code",
   "execution_count": null,
   "metadata": {},
   "outputs": [],
   "source": []
  }
 ],
 "metadata": {
  "kernelspec": {
   "display_name": "Python 3",
   "language": "python",
   "name": "python3"
  },
  "language_info": {
   "codemirror_mode": {
    "name": "ipython",
    "version": 3
   },
   "file_extension": ".py",
   "mimetype": "text/x-python",
   "name": "python",
   "nbconvert_exporter": "python",
   "pygments_lexer": "ipython3",
   "version": "3.6.5"
  }
 },
 "nbformat": 4,
 "nbformat_minor": 2
}
